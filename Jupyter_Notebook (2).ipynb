{
 "cells": [
  {
   "cell_type": "markdown",
   "metadata": {},
   "source": [
    "<center>\n",
    "    <img src=\"https://s3-api.us-geo.objectstorage.softlayer.net/cf-courses-data/CognitiveClass/Logos/organization_logo/organization_logo.png\" width=\"300\" alt=\"cognitiveclass.ai logo\"  />\n",
    "</center>\n"
   ]
  },
  {
   "cell_type": "markdown",
   "metadata": {
    "tags": []
   },
   "source": [
    "#### Add your code below following the instructions given in the course\n"
   ]
  },
  {
   "cell_type": "markdown",
   "metadata": {},
   "source": [
    "<a href=\"https://dataplatform.cloud.ibm.com/gallery\">IBM Cloud Gallery</a>"
   ]
  },
  {
   "cell_type": "markdown",
   "metadata": {
    "tags": []
   },
   "source": [
    "# My jupyter notebook in IBM Watson studio"
   ]
  },
  {
   "cell_type": "markdown",
   "metadata": {},
   "source": [
    "**Ignacio Gonzalez Martinez**\n",
    "\n",
    "Scientific researcher at the IFW Dresden"
   ]
  },
  {
   "cell_type": "markdown",
   "metadata": {},
   "source": [
    "*I find data science extremely interesting because it offers just the right tools to potentialize the problem-solving capacity of the human mind. In fact, the tools of data science do more than that, they can give one access to vantage points from which previously unknown and unsuspected problems become conspicuous. Thus one could say that data science is not just an assembly of tools and techniques to solve problems, but also to guide the mind to posit new and interesting questions. Perhaps more important than its capacity to sharpen our problem-solving abilities, data science points our curiosity onto unforeseen directions that would have otherwise remained hidden from our view.*"
   ]
  },
  {
   "cell_type": "markdown",
   "metadata": {},
   "source": [
    "### This code is going to test your musical knowledge"
   ]
  },
  {
   "cell_type": "code",
   "execution_count": null,
   "metadata": {},
   "outputs": [],
   "source": [
    "print ('Who is the greatest band of all times?')\n",
    "greatest=input(\"The greatest band ever is: \")\n",
    "if greatest == \"Tool\":\n",
    "    print (\"Yes!\")\n",
    "else:\n",
    "    print (\"Wrong! it is Tool\")"
   ]
  },
  {
   "cell_type": "markdown",
   "metadata": {},
   "source": [
    "#### This is a bulleted list\n",
    "\n",
    "* The Mars Volta\n",
    "* Led Zeppelin\n",
    "* Bloc Party\n",
    "* Nine Inch Nails\n",
    "* ... are also great\n",
    "\n",
    "#### But this is something else\n",
    "\n",
    "![](https://upload.wikimedia.org/wikipedia/en/6/63/Tool_-_Lateralus.jpg)\n",
    "\n",
    "#### You can check it out for yourself here\n",
    "\n",
    "<a href=\"https://www.youtube.com/watch?v=3BXyEUOuNds&list=PLBzBwYhHpqLI2g1rpfVfnVFjScpZdDzLR&ab_channel=TOOLVEVO\" target=\"_blank\">Enjoy!</a>"
   ]
  }
 ],
 "metadata": {
  "kernelspec": {
   "display_name": "Python",
   "language": "python",
   "name": "conda-env-python-py"
  },
  "language_info": {
   "codemirror_mode": {
    "name": "ipython",
    "version": 3
   },
   "file_extension": ".py",
   "mimetype": "text/x-python",
   "name": "python",
   "nbconvert_exporter": "python",
   "pygments_lexer": "ipython3",
   "version": "3.7.12"
  }
 },
 "nbformat": 4,
 "nbformat_minor": 4
}
